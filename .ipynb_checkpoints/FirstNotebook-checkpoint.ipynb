{
 "cells": [
  {
   "cell_type": "markdown",
   "id": "c3e4f0fd-815c-45fd-8a18-b112373c6df7",
   "metadata": {},
   "source": [
    "# Calculating pi using Monte Carlo methods"
   ]
  },
  {
   "cell_type": "markdown",
   "id": "622f8c9a-7a03-45f1-ab4e-63e18c104877",
   "metadata": {},
   "source": [
    "## Relevant formulas\n",
    "- square area: $s = (2 r)^2$\n",
    "- circle area: $c = \\pi r^2$\n",
    "- $c/s = \\pi r^2/(4r^2) = \\pi/4$\n",
    "- $\\pi = 4 c/s$"
   ]
  },
  {
   "cell_type": "markdown",
   "id": "bcb39457-5794-48d6-891d-07a785e4053b",
   "metadata": {},
   "source": [
    "## Image to visualize the concept\n",
    "\n",
    "![Darts](https://raw.githubusercontent.com/coderefinery/jupyter/main/example/darts.svg)"
   ]
  },
  {
   "cell_type": "code",
   "execution_count": 19,
   "id": "e559f893-07c2-4cdc-acc1-0372c265fe89",
   "metadata": {},
   "outputs": [],
   "source": [
    "import random\n",
    "import matplotlib.pyplot as plt"
   ]
  },
  {
   "cell_type": "code",
   "execution_count": 20,
   "id": "7e44220e-25c4-45e4-9ed5-2b37b6d007e2",
   "metadata": {},
   "outputs": [],
   "source": [
    "# Initializing the number of throws\n",
    "\n",
    "num_points = 1000"
   ]
  },
  {
   "cell_type": "code",
   "execution_count": 30,
   "id": "cdfda160-f743-4e04-8d41-baf89418fb3f",
   "metadata": {},
   "outputs": [],
   "source": [
    "# here we \"throw darts\" and count the number of hits\n",
    "\n",
    "points = []\n",
    "hits = 0\n",
    "for _ in range(num_points):\n",
    "    x, y = random.random(), random.random()\n",
    "    if x*x + y*y < 1.0:\n",
    "        hits += 1\n",
    "        points.append((x, y, \"red\"))\n",
    "    else:\n",
    "        points.append((x, y, \"blue\"))"
   ]
  },
  {
   "cell_type": "code",
   "execution_count": 31,
   "id": "bd7b5552-3910-4f19-82f2-a55590fc0ff2",
   "metadata": {},
   "outputs": [
    {
     "data": {
      "text/plain": [
       "3.188"
      ]
     },
     "execution_count": 31,
     "metadata": {},
     "output_type": "execute_result"
    }
   ],
   "source": [
    "# compute and print the estimate\n",
    "\n",
    "fraction = hits / num_points\n",
    "4 * fraction"
   ]
  },
  {
   "cell_type": "code",
   "execution_count": null,
   "id": "c97a7975-f5a0-418d-b8b8-22a94d0c497e",
   "metadata": {},
   "outputs": [],
   "source": []
  }
 ],
 "metadata": {
  "kernelspec": {
   "display_name": "Python 3 (ipykernel)",
   "language": "python",
   "name": "python3"
  },
  "language_info": {
   "codemirror_mode": {
    "name": "ipython",
    "version": 3
   },
   "file_extension": ".py",
   "mimetype": "text/x-python",
   "name": "python",
   "nbconvert_exporter": "python",
   "pygments_lexer": "ipython3",
   "version": "3.10.6"
  }
 },
 "nbformat": 4,
 "nbformat_minor": 5
}
